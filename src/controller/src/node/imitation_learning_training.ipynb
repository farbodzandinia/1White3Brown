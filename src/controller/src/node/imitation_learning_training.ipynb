{
 "cells": [
  {
   "cell_type": "markdown",
   "metadata": {},
   "source": [
    "# Training Imitation Learning Model"
   ]
  },
  {
   "cell_type": "code",
   "execution_count": 1,
   "metadata": {},
   "outputs": [],
   "source": [
    "import os\n",
    "import numpy as np\n",
    "import pandas as pd\n",
    "import matplotlib.pyplot as plt\n",
    "from PIL import Image\n",
    "%matplotlib inline\n",
    "\n",
    "import tensorflow as tf\n",
    "from tensorflow.keras import layers, models\n",
    "from tensorflow.keras.callbacks import EarlyStopping, ReduceLROnPlateau\n",
    "from tensorflow.keras.models import load_model"
   ]
  },
  {
   "cell_type": "markdown",
   "metadata": {},
   "source": [
    "## Check if TensorFlow is Detecting GPU"
   ]
  },
  {
   "cell_type": "code",
   "execution_count": 2,
   "metadata": {},
   "outputs": [
    {
     "name": "stdout",
     "output_type": "stream",
     "text": [
      "Found GPU device(s):\n",
      "PhysicalDevice(name='/physical_device:GPU:0', device_type='GPU')\n",
      "TensorFlow GPU options and configurations:\n",
      "[PhysicalDevice(name='/physical_device:GPU:0', device_type='GPU')]\n",
      "[PhysicalDevice(name='/physical_device:GPU:0', device_type='GPU')]\n",
      "None\n"
     ]
    },
    {
     "name": "stderr",
     "output_type": "stream",
     "text": [
      "2024-04-08 15:59:50.364260: I tensorflow/stream_executor/cuda/cuda_gpu_executor.cc:975] successful NUMA node read from SysFS had negative value (-1), but there must be at least one NUMA node, so returning NUMA node zero\n",
      "2024-04-08 15:59:50.367551: I tensorflow/stream_executor/cuda/cuda_gpu_executor.cc:975] successful NUMA node read from SysFS had negative value (-1), but there must be at least one NUMA node, so returning NUMA node zero\n",
      "2024-04-08 15:59:50.367673: I tensorflow/stream_executor/cuda/cuda_gpu_executor.cc:975] successful NUMA node read from SysFS had negative value (-1), but there must be at least one NUMA node, so returning NUMA node zero\n"
     ]
    }
   ],
   "source": [
    "# Check if TensorFlow can access GPU devices\n",
    "gpu_devices = tf.config.experimental.list_physical_devices('GPU')\n",
    "if gpu_devices:\n",
    "    print(\"Found GPU device(s):\")\n",
    "    for device in gpu_devices:\n",
    "        print(device)\n",
    "else:\n",
    "    print(\"No GPU devices found. TensorFlow will use CPU.\")\n",
    "\n",
    "print(\"TensorFlow GPU options and configurations:\")\n",
    "print(tf.config.experimental.list_physical_devices('GPU'))\n",
    "print(tf.config.experimental.get_visible_devices('GPU'))\n",
    "print(tf.config.experimental.get_memory_growth(gpu_devices[0]))  # Assuming there is at least one GPU device"
   ]
  },
  {
   "cell_type": "markdown",
   "metadata": {},
   "source": [
    "## Define the Default Path"
   ]
  },
  {
   "cell_type": "code",
   "execution_count": 3,
   "metadata": {},
   "outputs": [],
   "source": [
    "# Define root directories and CSV paths\n",
    "root_dirs = {\n",
    "    'asphalt': ('data_asphalt/', 'data_asphalt/data.csv'),\n",
    "    'desert': ('data_desert/', 'data_desert/data.csv'),\n",
    "    'offroad': ('data_offroad/', 'data_offroad/data.csv'),\n",
    "}"
   ]
  },
  {
   "cell_type": "markdown",
   "metadata": {},
   "source": [
    "## Remove Stationary Images from Dataset"
   ]
  },
  {
   "cell_type": "code",
   "execution_count": 57,
   "metadata": {},
   "outputs": [],
   "source": [
    "def clean_dataset(root_dir, csv_path):\n",
    "    # Load the dataset\n",
    "    df = pd.read_csv(csv_path)\n",
    "    \n",
    "    # Identify rows where linear.x is 0\n",
    "    zero_linear_x = df[df['linear_x'] == 0]\n",
    "    \n",
    "    # Remove these rows from the dataframe\n",
    "    df_cleaned = df[df['linear_x'] != 0]\n",
    "    \n",
    "    # Overwrite the cleaned dataframe to the current CSV\n",
    "    df_cleaned.to_csv(csv_path, index=False)\n",
    "    \n",
    "    # Remove corresponding images from the folder\n",
    "    for image_name in zero_linear_x['image_name']:\n",
    "        image_path = os.path.join(root_dir, image_name)\n",
    "        if os.path.exists(image_path):\n",
    "            os.remove(image_path)\n",
    "            print(f'Removed: {image_path}')\n",
    "        else:\n",
    "            print(f'File not found: {image_path}')"
   ]
  },
  {
   "cell_type": "markdown",
   "metadata": {},
   "source": [
    "### Asphalt"
   ]
  },
  {
   "cell_type": "code",
   "execution_count": 60,
   "metadata": {},
   "outputs": [
    {
     "name": "stdout",
     "output_type": "stream",
     "text": [
      "Cleaning dataset for asphalt environment.\n"
     ]
    }
   ],
   "source": [
    "# Clean the asphalt dataset\n",
    "root_dir_asphalt, csv_path_asphalt = root_dirs['asphalt']\n",
    "print(f\"Cleaning dataset for asphalt environment.\")\n",
    "clean_dataset(root_dir_asphalt, csv_path_asphalt)"
   ]
  },
  {
   "cell_type": "markdown",
   "metadata": {},
   "source": [
    "### Desert"
   ]
  },
  {
   "cell_type": "code",
   "execution_count": null,
   "metadata": {},
   "outputs": [],
   "source": [
    "# Clean the desert dataset\n",
    "root_dir_desert, csv_path_desert = root_dirs['desert']\n",
    "print(f\"Cleaning dataset for desert environment.\")\n",
    "clean_dataset(root_dir_desert, csv_path_desert)"
   ]
  },
  {
   "cell_type": "markdown",
   "metadata": {},
   "source": [
    "### Offroad"
   ]
  },
  {
   "cell_type": "code",
   "execution_count": null,
   "metadata": {},
   "outputs": [],
   "source": [
    "# Clean the offroad dataset\n",
    "root_dir_offroad, csv_path_offroad = root_dirs['offroad']\n",
    "print(f\"Cleaning dataset for offroad environment.\")\n",
    "clean_dataset(root_dir_offroad, csv_path_offroad)"
   ]
  },
  {
   "cell_type": "markdown",
   "metadata": {},
   "source": [
    "## Create Training Dataset"
   ]
  },
  {
   "cell_type": "code",
   "execution_count": 6,
   "metadata": {},
   "outputs": [],
   "source": [
    "def load_and_preprocess_data(csv_path, root_dir):\n",
    "    data = pd.read_csv(csv_path)\n",
    "    images = []\n",
    "    angular_zs = []\n",
    "\n",
    "    for _, row in data.iterrows():\n",
    "        img_path = os.path.join(root_dir, row['image_name'])\n",
    "        image = np.array(Image.open(img_path))\n",
    "        images.append(image)\n",
    "        angular_zs.append(row['angular_z'])\n",
    "\n",
    "    # Convert lists to numpy arrays and normalize images\n",
    "    images = np.array(images).astype('float32') / 255.0\n",
    "    angular_zs = np.array(angular_zs)\n",
    "\n",
    "    return images, angular_zs"
   ]
  },
  {
   "cell_type": "markdown",
   "metadata": {},
   "source": [
    "### Asphalt"
   ]
  },
  {
   "cell_type": "code",
   "execution_count": 61,
   "metadata": {},
   "outputs": [],
   "source": [
    "# Load and preprocess data for the asphalt environment\n",
    "root_dir_asphalt, csv_path_asphalt = root_dirs['asphalt']\n",
    "images_asphalt, angular_zs_asphalt = load_and_preprocess_data(csv_path_asphalt, root_dir_asphalt)"
   ]
  },
  {
   "cell_type": "markdown",
   "metadata": {},
   "source": [
    "### Desert"
   ]
  },
  {
   "cell_type": "code",
   "execution_count": null,
   "metadata": {},
   "outputs": [],
   "source": [
    "# Load and preprocess data for the desert environment\n",
    "root_dir_desert, csv_path_desert = root_dirs['desert']\n",
    "images_desert, angular_zs_desert = load_and_preprocess_data(csv_path_desert, root_dir_desert)"
   ]
  },
  {
   "cell_type": "markdown",
   "metadata": {},
   "source": [
    "### Offroad"
   ]
  },
  {
   "cell_type": "code",
   "execution_count": null,
   "metadata": {},
   "outputs": [],
   "source": [
    "# Load and preprocess data for the offroad environment\n",
    "root_dir_offroad, csv_path_offroad = root_dirs['offroad']\n",
    "images_offroad, angular_zs_offroad = load_and_preprocess_data(csv_path_offroad, root_dir_offroad)"
   ]
  },
  {
   "cell_type": "markdown",
   "metadata": {},
   "source": [
    "## Shuffle and Unpack Dataset"
   ]
  },
  {
   "cell_type": "code",
   "execution_count": 8,
   "metadata": {},
   "outputs": [],
   "source": [
    "def shuffle_and_unpack_data(images, angular_zs):\n",
    "    \"\"\"\n",
    "    Shuffles and unpacks images and their corresponding labels (angular_zs).\n",
    "    \n",
    "    Parameters:\n",
    "    - images: numpy array of images.\n",
    "    - angular_zs: numpy array of angular_z values.\n",
    "    \n",
    "    Returns:\n",
    "    - shuffled_images: numpy array of shuffled images.\n",
    "    - shuffled_angular_zs: numpy array of shuffled angular_z values.\n",
    "    \"\"\"\n",
    "    # Pair up images and labels\n",
    "    img_label_set = list(zip(images, angular_zs))\n",
    "    \n",
    "    # Shuffle the paired dataset\n",
    "    np.random.shuffle(img_label_set)\n",
    "    \n",
    "    # Unpack the shuffled dataset back into images and labels\n",
    "    shuffled_images, shuffled_angular_zs = zip(*img_label_set)\n",
    "    \n",
    "    # Convert them back to numpy arrays\n",
    "    shuffled_images = np.array(shuffled_images)\n",
    "    shuffled_angular_zs = np.array(shuffled_angular_zs)\n",
    "    \n",
    "    return shuffled_images, shuffled_angular_zs"
   ]
  },
  {
   "cell_type": "markdown",
   "metadata": {},
   "source": [
    "### Asphalt"
   ]
  },
  {
   "cell_type": "code",
   "execution_count": 62,
   "metadata": {},
   "outputs": [],
   "source": [
    "# Shuffle and unpack for the asphalt environment\n",
    "images_asphalt, angular_zs_asphalt = shuffle_and_unpack_data(images_asphalt, angular_zs_asphalt)"
   ]
  },
  {
   "cell_type": "markdown",
   "metadata": {},
   "source": [
    "### Desert"
   ]
  },
  {
   "cell_type": "code",
   "execution_count": null,
   "metadata": {},
   "outputs": [],
   "source": [
    "# Shuffle and unpack for the desert environment\n",
    "images_desert, angular_zs_desert = shuffle_and_unpack_data(images_desert, angular_zs_desert)"
   ]
  },
  {
   "cell_type": "markdown",
   "metadata": {},
   "source": [
    "### Offroad"
   ]
  },
  {
   "cell_type": "code",
   "execution_count": null,
   "metadata": {},
   "outputs": [],
   "source": [
    "# Shuffle and unpack for the offroad environment\n",
    "images_offroad, angular_zs_offroad = shuffle_and_unpack_data(images_offroad, angular_zs_offroad)"
   ]
  },
  {
   "cell_type": "markdown",
   "metadata": {},
   "source": [
    "## Define CNN Architecture"
   ]
  },
  {
   "cell_type": "code",
   "execution_count": 51,
   "metadata": {},
   "outputs": [],
   "source": [
    "def create_cnn(input_shape):\n",
    "    model = models.Sequential()\n",
    "\n",
    "    # Convolutional Layer 1\n",
    "    model.add(layers.Conv2D(32, (5, 5), padding='same', activation='relu', input_shape=input_shape))\n",
    "    model.add(layers.BatchNormalization())\n",
    "    model.add(layers.MaxPooling2D((2, 2)))\n",
    "\n",
    "    # Convolutional Layer 2\n",
    "    model.add(layers.Conv2D(64, (3, 3), padding='same', activation='relu'))\n",
    "    model.add(layers.BatchNormalization())\n",
    "    model.add(layers.MaxPooling2D((2, 2)))\n",
    "\n",
    "    # Convolutional Layer 3\n",
    "    model.add(layers.Conv2D(128, (3, 3), padding='same', activation='relu'))\n",
    "    model.add(layers.BatchNormalization())\n",
    "    model.add(layers.MaxPooling2D((2, 2)))\n",
    "\n",
    "    # Convolutional Layer 4\n",
    "    model.add(layers.Conv2D(128, (3, 3), padding='same', activation='relu'))\n",
    "    model.add(layers.BatchNormalization())\n",
    "    model.add(layers.MaxPooling2D((2, 2)))\n",
    "\n",
    "    # Flatten the output of the convolutional layers\n",
    "    model.add(layers.Flatten())\n",
    "\n",
    "    # Dense Layer 1 with Dropout\n",
    "    model.add(layers.Dense(512, activation='relu'))\n",
    "    model.add(layers.Dropout(0.5))\n",
    "\n",
    "    # Dense Layer 2 with Dropout\n",
    "    model.add(layers.Dense(512, activation='relu'))\n",
    "    model.add(layers.Dropout(0.5))\n",
    "\n",
    "    # Output Layer with one neuron since it's a regression problem\n",
    "    model.add(layers.Dense(1))\n",
    "\n",
    "    return model"
   ]
  },
  {
   "cell_type": "code",
   "execution_count": null,
   "metadata": {},
   "outputs": [],
   "source": [
    "def create_cnn(input_shape):\n",
    "    model = models.Sequential()\n",
    "\n",
    "    # Convolutional Layer 1\n",
    "    model.add(layers.Conv2D(32, (5, 5), padding='same', activation='relu', input_shape=input_shape))\n",
    "    model.add(layers.BatchNormalization())\n",
    "    model.add(layers.MaxPooling2D((2, 2)))\n",
    "\n",
    "    # Convolutional Layer 2\n",
    "    model.add(layers.Conv2D(64, (3, 3), padding='same', activation='relu'))\n",
    "    model.add(layers.BatchNormalization())\n",
    "    model.add(layers.MaxPooling2D((2, 2)))\n",
    "\n",
    "    # Removed Convolutional Layer 3 and 4 for simplification\n",
    "\n",
    "    # Flatten the output of the convolutional layers\n",
    "    model.add(layers.Flatten())\n",
    "\n",
    "    # Dense Layer 1 with Dropout\n",
    "    model.add(layers.Dense(256, activation='relu'))  # Reduced number of units\n",
    "    model.add(layers.Dropout(0.4))  # Adjusted dropout rate\n",
    "\n",
    "    # Removed Dense Layer 2 for simplification\n",
    "\n",
    "    # Output Layer with one neuron since it's a regression problem\n",
    "    model.add(layers.Dense(1))\n",
    "\n",
    "    return model"
   ]
  },
  {
   "cell_type": "code",
   "execution_count": 63,
   "metadata": {},
   "outputs": [],
   "source": [
    "def create_cnn(input_shape):\n",
    "    model = models.Sequential()\n",
    "\n",
    "    # Convolutional Layer 1\n",
    "    model.add(layers.Conv2D(32, (5, 5), padding='same', activation='relu', input_shape=input_shape))\n",
    "    model.add(layers.BatchNormalization())\n",
    "    model.add(layers.MaxPooling2D((2, 2)))\n",
    "\n",
    "    # Convolutional Layer 2 (Adjusted filters)\n",
    "    model.add(layers.Conv2D(64, (3, 3), padding='same', activation='relu'))\n",
    "    model.add(layers.BatchNormalization())\n",
    "    model.add(layers.MaxPooling2D((2, 2)))\n",
    "\n",
    "    # Reintroduced Convolutional Layer 3 (Reduced filters)\n",
    "    model.add(layers.Conv2D(96, (3, 3), padding='same', activation='relu'))  # Adjusted number of filters\n",
    "    model.add(layers.BatchNormalization())\n",
    "    model.add(layers.MaxPooling2D((2, 2)))\n",
    "\n",
    "    # Flatten the output of the convolutional layers\n",
    "    model.add(layers.Flatten())\n",
    "\n",
    "    # Dense Layer 1 with Dropout (Adjusted units and dropout)\n",
    "    model.add(layers.Dense(256, activation='relu'))  # Adjusted number of units\n",
    "    model.add(layers.Dropout(0.4))  # Fine-tuned dropout rate\n",
    "\n",
    "    # Output Layer\n",
    "    model.add(layers.Dense(1))\n",
    "\n",
    "    return model"
   ]
  },
  {
   "cell_type": "markdown",
   "metadata": {},
   "source": [
    "## Compile and Train the Model"
   ]
  },
  {
   "cell_type": "markdown",
   "metadata": {},
   "source": [
    "### Asphalt"
   ]
  },
  {
   "cell_type": "code",
   "execution_count": 64,
   "metadata": {},
   "outputs": [],
   "source": [
    "# Create the CNN model\n",
    "input_shape_asphalt = images_asphalt.shape[1:]  # Get the input shape from the asphalt dataset\n",
    "cnn_asphalt = create_cnn(input_shape_asphalt)\n",
    "\n",
    "# Compile the model\n",
    "cnn_asphalt.compile(loss='mean_squared_error', optimizer='rmsprop', metrics=['accuracy'])\n",
    "\n",
    "# Early stopping callback to stop training when the validation loss has stopped improving\n",
    "early_stopping_asphalt = EarlyStopping(monitor='val_loss', patience=25, verbose=1, restore_best_weights=True)\n",
    "\n",
    "# Reduce learning rate when a metric has stopped improving\n",
    "reduce_lr_asphalt = ReduceLROnPlateau(monitor='val_loss', factor=0.5, patience=10, verbose=1, min_lr=1e-7)"
   ]
  },
  {
   "cell_type": "code",
   "execution_count": 65,
   "metadata": {},
   "outputs": [
    {
     "name": "stdout",
     "output_type": "stream",
     "text": [
      "Model: \"sequential_8\"\n",
      "_________________________________________________________________\n",
      " Layer (type)                Output Shape              Param #   \n",
      "=================================================================\n",
      " conv2d_25 (Conv2D)          (None, 44, 128, 32)       2432      \n",
      "                                                                 \n",
      " batch_normalization_23 (Bat  (None, 44, 128, 32)      128       \n",
      " chNormalization)                                                \n",
      "                                                                 \n",
      " max_pooling2d_25 (MaxPoolin  (None, 22, 64, 32)       0         \n",
      " g2D)                                                            \n",
      "                                                                 \n",
      " conv2d_26 (Conv2D)          (None, 22, 64, 64)        18496     \n",
      "                                                                 \n",
      " batch_normalization_24 (Bat  (None, 22, 64, 64)       256       \n",
      " chNormalization)                                                \n",
      "                                                                 \n",
      " max_pooling2d_26 (MaxPoolin  (None, 11, 32, 64)       0         \n",
      " g2D)                                                            \n",
      "                                                                 \n",
      " conv2d_27 (Conv2D)          (None, 11, 32, 96)        55392     \n",
      "                                                                 \n",
      " batch_normalization_25 (Bat  (None, 11, 32, 96)       384       \n",
      " chNormalization)                                                \n",
      "                                                                 \n",
      " max_pooling2d_27 (MaxPoolin  (None, 5, 16, 96)        0         \n",
      " g2D)                                                            \n",
      "                                                                 \n",
      " flatten_7 (Flatten)         (None, 7680)              0         \n",
      "                                                                 \n",
      " dense_19 (Dense)            (None, 256)               1966336   \n",
      "                                                                 \n",
      " dropout_11 (Dropout)        (None, 256)               0         \n",
      "                                                                 \n",
      " dense_20 (Dense)            (None, 1)                 257       \n",
      "                                                                 \n",
      "=================================================================\n",
      "Total params: 2,043,681\n",
      "Trainable params: 2,043,297\n",
      "Non-trainable params: 384\n",
      "_________________________________________________________________\n"
     ]
    }
   ],
   "source": [
    "# Visualize the model\n",
    "cnn_asphalt.summary()"
   ]
  },
  {
   "cell_type": "markdown",
   "metadata": {},
   "source": [
    "### Desert"
   ]
  },
  {
   "cell_type": "code",
   "execution_count": null,
   "metadata": {},
   "outputs": [],
   "source": [
    "# Create the CNN model\n",
    "input_shape_desert = images_desert.shape[1:]  # Get the input shape from the asphalt dataset\n",
    "cnn_desert = create_cnn(input_shape_desert)\n",
    "\n",
    "# Compile the model\n",
    "cnn_desert.compile(loss='mean_squared_error', optimizer='adam', metrics=['accuracy'])\n",
    "\n",
    "# Early stopping callback to stop training when the validation loss has stopped improving\n",
    "early_stopping_desert = EarlyStopping(monitor='val_loss', patience=25, verbose=1, restore_best_weights=True)\n",
    "\n",
    "# Reduce learning rate when a metric has stopped improving\n",
    "reduce_lr_desert = ReduceLROnPlateau(monitor='val_loss', factor=0.5, patience=10, verbose=1, min_lr=1e-7)"
   ]
  },
  {
   "cell_type": "code",
   "execution_count": null,
   "metadata": {},
   "outputs": [],
   "source": [
    "# Visualize the model\n",
    "cnn_desert.summary()"
   ]
  },
  {
   "cell_type": "markdown",
   "metadata": {},
   "source": [
    "### Offroad"
   ]
  },
  {
   "cell_type": "code",
   "execution_count": null,
   "metadata": {},
   "outputs": [],
   "source": [
    "# Create the CNN model\n",
    "input_shape_offroad = images_offroad.shape[1:]  # Get the input shape from the asphalt dataset\n",
    "cnn_offroad = create_cnn(input_shape_offroad)\n",
    "\n",
    "# Compile the model\n",
    "cnn_offroad.compile(loss='mean_squared_error', optimizer='adam', metrics=['accuracy'])\n",
    "\n",
    "# Early stopping callback to stop training when the validation loss has stopped improving\n",
    "early_stopping_offroad = EarlyStopping(monitor='val_loss', patience=25, verbose=1, restore_best_weights=True)\n",
    "\n",
    "# Reduce learning rate when a metric has stopped improving\n",
    "reduce_lr_offroad = ReduceLROnPlateau(monitor='val_loss', factor=0.5, patience=10, verbose=1, min_lr=1e-7)"
   ]
  },
  {
   "cell_type": "code",
   "execution_count": null,
   "metadata": {},
   "outputs": [],
   "source": [
    "# Visualize the model\n",
    "cnn_offroad.summary()"
   ]
  },
  {
   "cell_type": "markdown",
   "metadata": {},
   "source": [
    "## Train the Model"
   ]
  },
  {
   "cell_type": "markdown",
   "metadata": {},
   "source": [
    "### Asphalt"
   ]
  },
  {
   "cell_type": "code",
   "execution_count": 66,
   "metadata": {},
   "outputs": [
    {
     "name": "stdout",
     "output_type": "stream",
     "text": [
      "Epoch 1/200\n",
      "297/297 [==============================] - 2s 5ms/step - loss: 21.9176 - accuracy: 0.5495 - val_loss: 1.0141 - val_accuracy: 0.4405 - lr: 0.0010\n",
      "Epoch 2/200\n",
      "297/297 [==============================] - 1s 4ms/step - loss: 0.3532 - accuracy: 0.5953 - val_loss: 0.3493 - val_accuracy: 0.5806 - lr: 0.0010\n",
      "Epoch 3/200\n",
      "297/297 [==============================] - 1s 4ms/step - loss: 0.3062 - accuracy: 0.6126 - val_loss: 0.2729 - val_accuracy: 0.5139 - lr: 0.0010\n",
      "Epoch 4/200\n",
      "297/297 [==============================] - 1s 4ms/step - loss: 0.2457 - accuracy: 0.6172 - val_loss: 0.2975 - val_accuracy: 0.5038 - lr: 0.0010\n",
      "Epoch 5/200\n",
      "297/297 [==============================] - 1s 4ms/step - loss: 0.2092 - accuracy: 0.6195 - val_loss: 0.2035 - val_accuracy: 0.5426 - lr: 0.0010\n",
      "Epoch 6/200\n",
      "297/297 [==============================] - 1s 4ms/step - loss: 0.2254 - accuracy: 0.6297 - val_loss: 0.2058 - val_accuracy: 0.6017 - lr: 0.0010\n",
      "Epoch 7/200\n",
      "297/297 [==============================] - 1s 4ms/step - loss: 0.1847 - accuracy: 0.6337 - val_loss: 0.3602 - val_accuracy: 0.6008 - lr: 0.0010\n",
      "Epoch 8/200\n",
      "297/297 [==============================] - 1s 4ms/step - loss: 0.1803 - accuracy: 0.6354 - val_loss: 0.2527 - val_accuracy: 0.5688 - lr: 0.0010\n",
      "Epoch 9/200\n",
      "297/297 [==============================] - 1s 4ms/step - loss: 0.1712 - accuracy: 0.6371 - val_loss: 0.2586 - val_accuracy: 0.6278 - lr: 0.0010\n",
      "Epoch 10/200\n",
      "297/297 [==============================] - 1s 4ms/step - loss: 0.1908 - accuracy: 0.6413 - val_loss: 0.1674 - val_accuracy: 0.5949 - lr: 0.0010\n",
      "Epoch 11/200\n",
      "297/297 [==============================] - 1s 4ms/step - loss: 0.1569 - accuracy: 0.6438 - val_loss: 0.1668 - val_accuracy: 0.6380 - lr: 0.0010\n",
      "Epoch 12/200\n",
      "297/297 [==============================] - 1s 4ms/step - loss: 0.1662 - accuracy: 0.6451 - val_loss: 0.2197 - val_accuracy: 0.6194 - lr: 0.0010\n",
      "Epoch 13/200\n",
      "297/297 [==============================] - 1s 4ms/step - loss: 0.1507 - accuracy: 0.6495 - val_loss: 0.1368 - val_accuracy: 0.6506 - lr: 0.0010\n",
      "Epoch 14/200\n",
      "297/297 [==============================] - 1s 4ms/step - loss: 0.1471 - accuracy: 0.6544 - val_loss: 0.1841 - val_accuracy: 0.6540 - lr: 0.0010\n",
      "Epoch 15/200\n",
      "297/297 [==============================] - 1s 4ms/step - loss: 0.1375 - accuracy: 0.6563 - val_loss: 0.1384 - val_accuracy: 0.6405 - lr: 0.0010\n",
      "Epoch 16/200\n",
      "297/297 [==============================] - 1s 4ms/step - loss: 0.1363 - accuracy: 0.6541 - val_loss: 0.1359 - val_accuracy: 0.6506 - lr: 0.0010\n",
      "Epoch 17/200\n",
      "297/297 [==============================] - 1s 4ms/step - loss: 0.1285 - accuracy: 0.6554 - val_loss: 0.1958 - val_accuracy: 0.5932 - lr: 0.0010\n",
      "Epoch 18/200\n",
      "297/297 [==============================] - 1s 4ms/step - loss: 0.1197 - accuracy: 0.6643 - val_loss: 0.1542 - val_accuracy: 0.6245 - lr: 0.0010\n",
      "Epoch 19/200\n",
      "297/297 [==============================] - 1s 4ms/step - loss: 0.1202 - accuracy: 0.6607 - val_loss: 0.1385 - val_accuracy: 0.6439 - lr: 0.0010\n",
      "Epoch 20/200\n",
      "297/297 [==============================] - 1s 4ms/step - loss: 0.1131 - accuracy: 0.6691 - val_loss: 0.2194 - val_accuracy: 0.5376 - lr: 0.0010\n",
      "Epoch 21/200\n",
      "297/297 [==============================] - 1s 4ms/step - loss: 0.1138 - accuracy: 0.6700 - val_loss: 0.1460 - val_accuracy: 0.6312 - lr: 0.0010\n",
      "Epoch 22/200\n",
      "297/297 [==============================] - 1s 4ms/step - loss: 0.1102 - accuracy: 0.6704 - val_loss: 0.1476 - val_accuracy: 0.6295 - lr: 0.0010\n",
      "Epoch 23/200\n",
      "297/297 [==============================] - 1s 4ms/step - loss: 0.1071 - accuracy: 0.6727 - val_loss: 0.1362 - val_accuracy: 0.6439 - lr: 0.0010\n",
      "Epoch 24/200\n",
      "297/297 [==============================] - 1s 4ms/step - loss: 0.1046 - accuracy: 0.6752 - val_loss: 0.1773 - val_accuracy: 0.5561 - lr: 0.0010\n",
      "Epoch 25/200\n",
      "297/297 [==============================] - 1s 4ms/step - loss: 0.1007 - accuracy: 0.6738 - val_loss: 0.1281 - val_accuracy: 0.6481 - lr: 0.0010\n",
      "Epoch 26/200\n",
      "297/297 [==============================] - 1s 4ms/step - loss: 0.0938 - accuracy: 0.6833 - val_loss: 0.1298 - val_accuracy: 0.6489 - lr: 0.0010\n",
      "Epoch 27/200\n",
      "297/297 [==============================] - 1s 4ms/step - loss: 0.0932 - accuracy: 0.6816 - val_loss: 0.1270 - val_accuracy: 0.6565 - lr: 0.0010\n",
      "Epoch 28/200\n",
      "297/297 [==============================] - 1s 4ms/step - loss: 0.0914 - accuracy: 0.6824 - val_loss: 0.1782 - val_accuracy: 0.5738 - lr: 0.0010\n",
      "Epoch 29/200\n",
      "297/297 [==============================] - 1s 4ms/step - loss: 0.0895 - accuracy: 0.6841 - val_loss: 0.1423 - val_accuracy: 0.6295 - lr: 0.0010\n",
      "Epoch 30/200\n",
      "297/297 [==============================] - 1s 4ms/step - loss: 0.0871 - accuracy: 0.6847 - val_loss: 0.1523 - val_accuracy: 0.6135 - lr: 0.0010\n",
      "Epoch 31/200\n",
      "297/297 [==============================] - 1s 4ms/step - loss: 0.0807 - accuracy: 0.6898 - val_loss: 0.1511 - val_accuracy: 0.6321 - lr: 0.0010\n",
      "Epoch 32/200\n",
      "297/297 [==============================] - 1s 4ms/step - loss: 0.0766 - accuracy: 0.6900 - val_loss: 0.1399 - val_accuracy: 0.6456 - lr: 0.0010\n",
      "Epoch 33/200\n",
      "297/297 [==============================] - 1s 4ms/step - loss: 0.0774 - accuracy: 0.6926 - val_loss: 0.1468 - val_accuracy: 0.6481 - lr: 0.0010\n",
      "Epoch 34/200\n",
      "297/297 [==============================] - 1s 4ms/step - loss: 0.0732 - accuracy: 0.6949 - val_loss: 0.1533 - val_accuracy: 0.6110 - lr: 0.0010\n",
      "Epoch 35/200\n",
      "297/297 [==============================] - 1s 4ms/step - loss: 0.0761 - accuracy: 0.6945 - val_loss: 0.1830 - val_accuracy: 0.6152 - lr: 0.0010\n",
      "Epoch 36/200\n",
      "297/297 [==============================] - 1s 4ms/step - loss: 0.0730 - accuracy: 0.6936 - val_loss: 0.2079 - val_accuracy: 0.6051 - lr: 0.0010\n",
      "Epoch 37/200\n",
      "289/297 [============================>.] - ETA: 0s - loss: 0.0687 - accuracy: 0.6994\n",
      "Epoch 37: ReduceLROnPlateau reducing learning rate to 0.0005000000237487257.\n",
      "297/297 [==============================] - 1s 4ms/step - loss: 0.0684 - accuracy: 0.6987 - val_loss: 0.1523 - val_accuracy: 0.6329 - lr: 0.0010\n",
      "Epoch 38/200\n",
      "297/297 [==============================] - 1s 4ms/step - loss: 0.0572 - accuracy: 0.7063 - val_loss: 0.1301 - val_accuracy: 0.6473 - lr: 5.0000e-04\n",
      "Epoch 39/200\n",
      "297/297 [==============================] - 1s 4ms/step - loss: 0.0527 - accuracy: 0.7082 - val_loss: 0.1248 - val_accuracy: 0.6489 - lr: 5.0000e-04\n",
      "Epoch 40/200\n",
      "297/297 [==============================] - 1s 4ms/step - loss: 0.0511 - accuracy: 0.7092 - val_loss: 0.1242 - val_accuracy: 0.6540 - lr: 5.0000e-04\n",
      "Epoch 41/200\n",
      "297/297 [==============================] - 1s 4ms/step - loss: 0.0497 - accuracy: 0.7075 - val_loss: 0.1491 - val_accuracy: 0.6110 - lr: 5.0000e-04\n",
      "Epoch 42/200\n",
      "297/297 [==============================] - 1s 4ms/step - loss: 0.0470 - accuracy: 0.7090 - val_loss: 0.1241 - val_accuracy: 0.6498 - lr: 5.0000e-04\n",
      "Epoch 43/200\n",
      "297/297 [==============================] - 1s 4ms/step - loss: 0.0462 - accuracy: 0.7094 - val_loss: 0.3829 - val_accuracy: 0.5848 - lr: 5.0000e-04\n",
      "Epoch 44/200\n",
      "297/297 [==============================] - 1s 4ms/step - loss: 0.0464 - accuracy: 0.7115 - val_loss: 0.1265 - val_accuracy: 0.6456 - lr: 5.0000e-04\n",
      "Epoch 45/200\n",
      "297/297 [==============================] - 1s 4ms/step - loss: 0.0457 - accuracy: 0.7111 - val_loss: 0.1217 - val_accuracy: 0.6481 - lr: 5.0000e-04\n",
      "Epoch 46/200\n",
      "297/297 [==============================] - 1s 4ms/step - loss: 0.0442 - accuracy: 0.7122 - val_loss: 0.1271 - val_accuracy: 0.6464 - lr: 5.0000e-04\n",
      "Epoch 47/200\n",
      "297/297 [==============================] - 1s 4ms/step - loss: 0.0433 - accuracy: 0.7109 - val_loss: 0.4817 - val_accuracy: 0.4751 - lr: 5.0000e-04\n",
      "Epoch 48/200\n",
      "297/297 [==============================] - 1s 4ms/step - loss: 0.0411 - accuracy: 0.7126 - val_loss: 0.1213 - val_accuracy: 0.6515 - lr: 5.0000e-04\n",
      "Epoch 49/200\n",
      "297/297 [==============================] - 1s 4ms/step - loss: 0.0420 - accuracy: 0.7134 - val_loss: 0.1251 - val_accuracy: 0.6523 - lr: 5.0000e-04\n",
      "Epoch 50/200\n",
      "297/297 [==============================] - 1s 4ms/step - loss: 0.0411 - accuracy: 0.7126 - val_loss: 0.1362 - val_accuracy: 0.6380 - lr: 5.0000e-04\n",
      "Epoch 51/200\n",
      "297/297 [==============================] - 1s 4ms/step - loss: 0.0405 - accuracy: 0.7145 - val_loss: 0.1364 - val_accuracy: 0.6456 - lr: 5.0000e-04\n",
      "Epoch 52/200\n",
      "297/297 [==============================] - 1s 4ms/step - loss: 0.0396 - accuracy: 0.7158 - val_loss: 0.1399 - val_accuracy: 0.6414 - lr: 5.0000e-04\n",
      "Epoch 53/200\n",
      "297/297 [==============================] - 1s 4ms/step - loss: 0.0404 - accuracy: 0.7105 - val_loss: 0.1438 - val_accuracy: 0.6523 - lr: 5.0000e-04\n",
      "Epoch 54/200\n",
      "297/297 [==============================] - 1s 4ms/step - loss: 0.0397 - accuracy: 0.7139 - val_loss: 0.1381 - val_accuracy: 0.6464 - lr: 5.0000e-04\n",
      "Epoch 55/200\n",
      "297/297 [==============================] - 1s 4ms/step - loss: 0.0382 - accuracy: 0.7149 - val_loss: 0.1598 - val_accuracy: 0.6473 - lr: 5.0000e-04\n",
      "Epoch 56/200\n",
      "297/297 [==============================] - 1s 4ms/step - loss: 0.0390 - accuracy: 0.7164 - val_loss: 0.1227 - val_accuracy: 0.6523 - lr: 5.0000e-04\n",
      "Epoch 57/200\n",
      "297/297 [==============================] - 1s 4ms/step - loss: 0.0381 - accuracy: 0.7143 - val_loss: 0.1266 - val_accuracy: 0.6540 - lr: 5.0000e-04\n",
      "Epoch 58/200\n",
      "282/297 [===========================>..] - ETA: 0s - loss: 0.0363 - accuracy: 0.7165\n",
      "Epoch 58: ReduceLROnPlateau reducing learning rate to 0.0002500000118743628.\n",
      "297/297 [==============================] - 1s 4ms/step - loss: 0.0365 - accuracy: 0.7162 - val_loss: 0.1412 - val_accuracy: 0.6481 - lr: 5.0000e-04\n",
      "Epoch 59/200\n",
      "297/297 [==============================] - 1s 4ms/step - loss: 0.0316 - accuracy: 0.7189 - val_loss: 0.1220 - val_accuracy: 0.6523 - lr: 2.5000e-04\n",
      "Epoch 60/200\n",
      "297/297 [==============================] - 1s 4ms/step - loss: 0.0326 - accuracy: 0.7158 - val_loss: 0.1239 - val_accuracy: 0.6498 - lr: 2.5000e-04\n",
      "Epoch 61/200\n",
      "297/297 [==============================] - 1s 4ms/step - loss: 0.0301 - accuracy: 0.7191 - val_loss: 0.1224 - val_accuracy: 0.6549 - lr: 2.5000e-04\n",
      "Epoch 62/200\n",
      "297/297 [==============================] - 1s 4ms/step - loss: 0.0297 - accuracy: 0.7208 - val_loss: 0.1226 - val_accuracy: 0.6515 - lr: 2.5000e-04\n",
      "Epoch 63/200\n",
      "297/297 [==============================] - 1s 4ms/step - loss: 0.0289 - accuracy: 0.7189 - val_loss: 0.1236 - val_accuracy: 0.6506 - lr: 2.5000e-04\n",
      "Epoch 64/200\n",
      "297/297 [==============================] - 1s 4ms/step - loss: 0.0299 - accuracy: 0.7196 - val_loss: 0.1214 - val_accuracy: 0.6532 - lr: 2.5000e-04\n",
      "Epoch 65/200\n",
      "297/297 [==============================] - 1s 4ms/step - loss: 0.0281 - accuracy: 0.7206 - val_loss: 0.1198 - val_accuracy: 0.6540 - lr: 2.5000e-04\n",
      "Epoch 66/200\n",
      "297/297 [==============================] - 1s 4ms/step - loss: 0.0294 - accuracy: 0.7196 - val_loss: 0.1208 - val_accuracy: 0.6456 - lr: 2.5000e-04\n",
      "Epoch 67/200\n",
      "297/297 [==============================] - 1s 4ms/step - loss: 0.0283 - accuracy: 0.7200 - val_loss: 0.1217 - val_accuracy: 0.6506 - lr: 2.5000e-04\n",
      "Epoch 68/200\n",
      "297/297 [==============================] - 1s 4ms/step - loss: 0.0289 - accuracy: 0.7194 - val_loss: 0.1201 - val_accuracy: 0.6515 - lr: 2.5000e-04\n",
      "Epoch 69/200\n",
      "297/297 [==============================] - 1s 4ms/step - loss: 0.0279 - accuracy: 0.7183 - val_loss: 0.1259 - val_accuracy: 0.6540 - lr: 2.5000e-04\n",
      "Epoch 70/200\n",
      "297/297 [==============================] - 1s 4ms/step - loss: 0.0267 - accuracy: 0.7215 - val_loss: 0.1202 - val_accuracy: 0.6540 - lr: 2.5000e-04\n",
      "Epoch 71/200\n",
      "297/297 [==============================] - 1s 4ms/step - loss: 0.0280 - accuracy: 0.7187 - val_loss: 0.1267 - val_accuracy: 0.6498 - lr: 2.5000e-04\n",
      "Epoch 72/200\n",
      "297/297 [==============================] - 1s 4ms/step - loss: 0.0281 - accuracy: 0.7204 - val_loss: 0.1179 - val_accuracy: 0.6565 - lr: 2.5000e-04\n",
      "Epoch 73/200\n",
      "297/297 [==============================] - 1s 4ms/step - loss: 0.0266 - accuracy: 0.7208 - val_loss: 0.1225 - val_accuracy: 0.6532 - lr: 2.5000e-04\n",
      "Epoch 74/200\n",
      "297/297 [==============================] - 1s 4ms/step - loss: 0.0288 - accuracy: 0.7181 - val_loss: 0.1293 - val_accuracy: 0.6532 - lr: 2.5000e-04\n",
      "Epoch 75/200\n",
      "297/297 [==============================] - 1s 4ms/step - loss: 0.0265 - accuracy: 0.7202 - val_loss: 0.1180 - val_accuracy: 0.6557 - lr: 2.5000e-04\n",
      "Epoch 76/200\n",
      "297/297 [==============================] - 1s 4ms/step - loss: 0.0277 - accuracy: 0.7208 - val_loss: 0.1187 - val_accuracy: 0.6532 - lr: 2.5000e-04\n",
      "Epoch 77/200\n",
      "297/297 [==============================] - 1s 4ms/step - loss: 0.0284 - accuracy: 0.7200 - val_loss: 0.1219 - val_accuracy: 0.6515 - lr: 2.5000e-04\n",
      "Epoch 78/200\n",
      "297/297 [==============================] - 1s 4ms/step - loss: 0.0267 - accuracy: 0.7206 - val_loss: 0.1220 - val_accuracy: 0.6557 - lr: 2.5000e-04\n",
      "Epoch 79/200\n",
      "297/297 [==============================] - 1s 4ms/step - loss: 0.0263 - accuracy: 0.7210 - val_loss: 0.1207 - val_accuracy: 0.6532 - lr: 2.5000e-04\n",
      "Epoch 80/200\n",
      "297/297 [==============================] - 1s 4ms/step - loss: 0.0267 - accuracy: 0.7198 - val_loss: 0.1216 - val_accuracy: 0.6540 - lr: 2.5000e-04\n",
      "Epoch 81/200\n",
      "297/297 [==============================] - 1s 4ms/step - loss: 0.0277 - accuracy: 0.7194 - val_loss: 0.1217 - val_accuracy: 0.6523 - lr: 2.5000e-04\n",
      "Epoch 82/200\n",
      "288/297 [============================>.] - ETA: 0s - loss: 0.0288 - accuracy: 0.7203\n",
      "Epoch 82: ReduceLROnPlateau reducing learning rate to 0.0001250000059371814.\n",
      "297/297 [==============================] - 1s 4ms/step - loss: 0.0285 - accuracy: 0.7202 - val_loss: 0.1203 - val_accuracy: 0.6523 - lr: 2.5000e-04\n",
      "Epoch 83/200\n",
      "297/297 [==============================] - 1s 4ms/step - loss: 0.0244 - accuracy: 0.7202 - val_loss: 0.1195 - val_accuracy: 0.6540 - lr: 1.2500e-04\n",
      "Epoch 84/200\n",
      "297/297 [==============================] - 1s 4ms/step - loss: 0.0240 - accuracy: 0.7223 - val_loss: 0.1200 - val_accuracy: 0.6515 - lr: 1.2500e-04\n",
      "Epoch 85/200\n",
      "297/297 [==============================] - 1s 4ms/step - loss: 0.0237 - accuracy: 0.7202 - val_loss: 0.1234 - val_accuracy: 0.6506 - lr: 1.2500e-04\n",
      "Epoch 86/200\n",
      "297/297 [==============================] - 1s 4ms/step - loss: 0.0234 - accuracy: 0.7221 - val_loss: 0.1251 - val_accuracy: 0.6523 - lr: 1.2500e-04\n",
      "Epoch 87/200\n",
      "297/297 [==============================] - 1s 4ms/step - loss: 0.0236 - accuracy: 0.7212 - val_loss: 0.1199 - val_accuracy: 0.6523 - lr: 1.2500e-04\n",
      "Epoch 88/200\n",
      "297/297 [==============================] - 1s 4ms/step - loss: 0.0250 - accuracy: 0.7217 - val_loss: 0.1183 - val_accuracy: 0.6532 - lr: 1.2500e-04\n",
      "Epoch 89/200\n",
      "297/297 [==============================] - 1s 4ms/step - loss: 0.0233 - accuracy: 0.7206 - val_loss: 0.1205 - val_accuracy: 0.6523 - lr: 1.2500e-04\n",
      "Epoch 90/200\n",
      "297/297 [==============================] - 1s 4ms/step - loss: 0.0232 - accuracy: 0.7206 - val_loss: 0.1193 - val_accuracy: 0.6515 - lr: 1.2500e-04\n",
      "Epoch 91/200\n",
      "297/297 [==============================] - 1s 4ms/step - loss: 0.0224 - accuracy: 0.7210 - val_loss: 0.1226 - val_accuracy: 0.6515 - lr: 1.2500e-04\n",
      "Epoch 92/200\n",
      "287/297 [===========================>..] - ETA: 0s - loss: 0.0227 - accuracy: 0.7223\n",
      "Epoch 92: ReduceLROnPlateau reducing learning rate to 6.25000029685907e-05.\n",
      "297/297 [==============================] - 1s 4ms/step - loss: 0.0228 - accuracy: 0.7198 - val_loss: 0.1199 - val_accuracy: 0.6523 - lr: 1.2500e-04\n",
      "Epoch 93/200\n",
      "297/297 [==============================] - 1s 4ms/step - loss: 0.0230 - accuracy: 0.7217 - val_loss: 0.1196 - val_accuracy: 0.6549 - lr: 6.2500e-05\n",
      "Epoch 94/200\n",
      "297/297 [==============================] - 1s 4ms/step - loss: 0.0226 - accuracy: 0.7208 - val_loss: 0.1174 - val_accuracy: 0.6540 - lr: 6.2500e-05\n",
      "Epoch 95/200\n",
      "297/297 [==============================] - 1s 4ms/step - loss: 0.0235 - accuracy: 0.7208 - val_loss: 0.1195 - val_accuracy: 0.6523 - lr: 6.2500e-05\n",
      "Epoch 96/200\n",
      "297/297 [==============================] - 1s 4ms/step - loss: 0.0216 - accuracy: 0.7227 - val_loss: 0.1201 - val_accuracy: 0.6549 - lr: 6.2500e-05\n",
      "Epoch 97/200\n",
      "297/297 [==============================] - 1s 4ms/step - loss: 0.0223 - accuracy: 0.7221 - val_loss: 0.1200 - val_accuracy: 0.6532 - lr: 6.2500e-05\n",
      "Epoch 98/200\n",
      "297/297 [==============================] - 1s 4ms/step - loss: 0.0226 - accuracy: 0.7204 - val_loss: 0.1185 - val_accuracy: 0.6549 - lr: 6.2500e-05\n",
      "Epoch 99/200\n",
      "297/297 [==============================] - 1s 4ms/step - loss: 0.0220 - accuracy: 0.7210 - val_loss: 0.1199 - val_accuracy: 0.6515 - lr: 6.2500e-05\n",
      "Epoch 100/200\n",
      "297/297 [==============================] - 1s 4ms/step - loss: 0.0227 - accuracy: 0.7210 - val_loss: 0.1190 - val_accuracy: 0.6540 - lr: 6.2500e-05\n",
      "Epoch 101/200\n",
      "297/297 [==============================] - 1s 4ms/step - loss: 0.0226 - accuracy: 0.7210 - val_loss: 0.1219 - val_accuracy: 0.6540 - lr: 6.2500e-05\n",
      "Epoch 102/200\n",
      "297/297 [==============================] - 1s 4ms/step - loss: 0.0225 - accuracy: 0.7204 - val_loss: 0.1221 - val_accuracy: 0.6582 - lr: 6.2500e-05\n",
      "Epoch 103/200\n",
      "297/297 [==============================] - 1s 4ms/step - loss: 0.0223 - accuracy: 0.7208 - val_loss: 0.1195 - val_accuracy: 0.6540 - lr: 6.2500e-05\n",
      "Epoch 104/200\n",
      "289/297 [============================>.] - ETA: 0s - loss: 0.0230 - accuracy: 0.7219\n",
      "Epoch 104: ReduceLROnPlateau reducing learning rate to 3.125000148429535e-05.\n",
      "297/297 [==============================] - 1s 4ms/step - loss: 0.0229 - accuracy: 0.7219 - val_loss: 0.1201 - val_accuracy: 0.6540 - lr: 6.2500e-05\n",
      "Epoch 105/200\n",
      "297/297 [==============================] - 1s 4ms/step - loss: 0.0212 - accuracy: 0.7219 - val_loss: 0.1201 - val_accuracy: 0.6523 - lr: 3.1250e-05\n",
      "Epoch 106/200\n",
      "297/297 [==============================] - 1s 4ms/step - loss: 0.0217 - accuracy: 0.7215 - val_loss: 0.1212 - val_accuracy: 0.6549 - lr: 3.1250e-05\n",
      "Epoch 107/200\n",
      "297/297 [==============================] - 1s 4ms/step - loss: 0.0211 - accuracy: 0.7223 - val_loss: 0.1208 - val_accuracy: 0.6532 - lr: 3.1250e-05\n",
      "Epoch 108/200\n",
      "297/297 [==============================] - 1s 4ms/step - loss: 0.0222 - accuracy: 0.7204 - val_loss: 0.1209 - val_accuracy: 0.6540 - lr: 3.1250e-05\n",
      "Epoch 109/200\n",
      "297/297 [==============================] - 1s 4ms/step - loss: 0.0210 - accuracy: 0.7219 - val_loss: 0.1219 - val_accuracy: 0.6532 - lr: 3.1250e-05\n",
      "Epoch 110/200\n",
      "297/297 [==============================] - 1s 4ms/step - loss: 0.0216 - accuracy: 0.7215 - val_loss: 0.1202 - val_accuracy: 0.6549 - lr: 3.1250e-05\n",
      "Epoch 111/200\n",
      "297/297 [==============================] - 1s 4ms/step - loss: 0.0224 - accuracy: 0.7204 - val_loss: 0.1198 - val_accuracy: 0.6565 - lr: 3.1250e-05\n",
      "Epoch 112/200\n",
      "297/297 [==============================] - 1s 4ms/step - loss: 0.0220 - accuracy: 0.7223 - val_loss: 0.1190 - val_accuracy: 0.6549 - lr: 3.1250e-05\n",
      "Epoch 113/200\n",
      "297/297 [==============================] - 1s 4ms/step - loss: 0.0209 - accuracy: 0.7219 - val_loss: 0.1193 - val_accuracy: 0.6557 - lr: 3.1250e-05\n",
      "Epoch 114/200\n",
      "291/297 [============================>.] - ETA: 0s - loss: 0.0213 - accuracy: 0.7236\n",
      "Epoch 114: ReduceLROnPlateau reducing learning rate to 1.5625000742147677e-05.\n",
      "297/297 [==============================] - 1s 4ms/step - loss: 0.0214 - accuracy: 0.7225 - val_loss: 0.1195 - val_accuracy: 0.6540 - lr: 3.1250e-05\n",
      "Epoch 115/200\n",
      "297/297 [==============================] - 1s 4ms/step - loss: 0.0216 - accuracy: 0.7212 - val_loss: 0.1193 - val_accuracy: 0.6540 - lr: 1.5625e-05\n",
      "Epoch 116/200\n",
      "297/297 [==============================] - 1s 4ms/step - loss: 0.0209 - accuracy: 0.7221 - val_loss: 0.1193 - val_accuracy: 0.6549 - lr: 1.5625e-05\n",
      "Epoch 117/200\n",
      "297/297 [==============================] - 1s 4ms/step - loss: 0.0210 - accuracy: 0.7221 - val_loss: 0.1191 - val_accuracy: 0.6540 - lr: 1.5625e-05\n",
      "Epoch 118/200\n",
      "297/297 [==============================] - 1s 4ms/step - loss: 0.0216 - accuracy: 0.7210 - val_loss: 0.1191 - val_accuracy: 0.6549 - lr: 1.5625e-05\n",
      "Epoch 119/200\n",
      "284/297 [===========================>..] - ETA: 0s - loss: 0.0206 - accuracy: 0.7218Restoring model weights from the end of the best epoch: 94.\n",
      "297/297 [==============================] - 1s 4ms/step - loss: 0.0205 - accuracy: 0.7212 - val_loss: 0.1193 - val_accuracy: 0.6549 - lr: 1.5625e-05\n",
      "Epoch 119: early stopping\n"
     ]
    }
   ],
   "source": [
    "history_asphalt = cnn_asphalt.fit(\n",
    "    images_asphalt, \n",
    "    angular_zs_asphalt, \n",
    "    validation_split=0.20, \n",
    "    epochs=200, \n",
    "    batch_size=16, \n",
    "    callbacks=[early_stopping_asphalt, reduce_lr_asphalt]\n",
    ")"
   ]
  },
  {
   "cell_type": "markdown",
   "metadata": {},
   "source": [
    "### Desert"
   ]
  },
  {
   "cell_type": "code",
   "execution_count": null,
   "metadata": {},
   "outputs": [],
   "source": [
    "history_desert = cnn_desert.fit(\n",
    "    images_desert, \n",
    "    angular_zs_desert, \n",
    "    validation_split=0.20, \n",
    "    epochs=200, \n",
    "    batch_size=16, \n",
    "    callbacks=[early_stopping_desert, reduce_lr_desert]\n",
    ")"
   ]
  },
  {
   "cell_type": "markdown",
   "metadata": {},
   "source": [
    "### Offroad"
   ]
  },
  {
   "cell_type": "code",
   "execution_count": null,
   "metadata": {},
   "outputs": [],
   "source": [
    "history_offroad = cnn_offroad.fit(\n",
    "    images_offroad, \n",
    "    angular_zs_offroad, \n",
    "    validation_split=0.20, \n",
    "    epochs=200, \n",
    "    batch_size=16, \n",
    "    callbacks=[early_stopping_offroad, reduce_lr_offroad]\n",
    ")"
   ]
  },
  {
   "cell_type": "markdown",
   "metadata": {},
   "source": [
    "## Plot Model Performance"
   ]
  },
  {
   "cell_type": "code",
   "execution_count": 14,
   "metadata": {},
   "outputs": [],
   "source": [
    "def plot_model_performance(history, title='Model Loss and Accuracy'):\n",
    "    fig, ax1 = plt.subplots(figsize=(10, 5))\n",
    "\n",
    "    # Plot training and validation loss on the first y-axis\n",
    "    ax1.set_xlabel('Epoch')\n",
    "    ax1.set_ylabel('Loss', color='tab:red')\n",
    "    ax1.plot(history.history['loss'], label='Training Loss', color='tab:red', linestyle='--')\n",
    "    ax1.plot(history.history['val_loss'], label='Validation Loss', color='tab:red')\n",
    "    ax1.tick_params(axis='y', labelcolor='tab:red')\n",
    "\n",
    "    # Create a second y-axis sharing the same x-axis for accuracy\n",
    "    ax2 = ax1.twinx()\n",
    "    ax2.set_ylabel('Accuracy (%)', color='tab:blue')\n",
    "    ax2.plot(history.history['accuracy'], label='Training Accuracy', color='tab:blue', linestyle='--')\n",
    "    ax2.plot(history.history['val_accuracy'], label='Validation Accuracy', color='tab:blue')\n",
    "    ax2.tick_params(axis='y', labelcolor='tab:blue')\n",
    "\n",
    "    # Add legend and title to the plot\n",
    "    lines, labels = ax1.get_legend_handles_labels()\n",
    "    lines2, labels2 = ax2.get_legend_handles_labels()\n",
    "    ax2.legend(lines + lines2, labels + labels2, loc='best')\n",
    "    plt.title(title)\n",
    "    plt.show()"
   ]
  },
  {
   "cell_type": "markdown",
   "metadata": {},
   "source": [
    "### Asphalt"
   ]
  },
  {
   "cell_type": "code",
   "execution_count": 67,
   "metadata": {},
   "outputs": [
    {
     "data": {
      "image/png": "[encoded data removed]",
      "text/plain": [
       "<Figure size 1000x500 with 2 Axes>"
      ]
     },
     "metadata": {},
     "output_type": "display_data"
    }
   ],
   "source": [
    "plot_model_performance(history_asphalt, title='Asphalt Model Loss and Accuracy')"
   ]
  },
  {
   "cell_type": "markdown",
   "metadata": {},
   "source": [
    "### Desert"
   ]
  },
  {
   "cell_type": "code",
   "execution_count": null,
   "metadata": {},
   "outputs": [],
   "source": [
    "plot_model_performance(history_desert, title='Desert Model Loss and Accuracy')"
   ]
  },
  {
   "cell_type": "markdown",
   "metadata": {},
   "source": [
    "### Offroad"
   ]
  },
  {
   "cell_type": "code",
   "execution_count": null,
   "metadata": {},
   "outputs": [],
   "source": [
    "plot_model_performance(history_offroad, title='Offroad Model Loss and Accuracy')"
   ]
  },
  {
   "cell_type": "markdown",
   "metadata": {},
   "source": [
    "## Save the Model"
   ]
  },
  {
   "cell_type": "markdown",
   "metadata": {},
   "source": [
    "### Asphalt"
   ]
  },
  {
   "cell_type": "code",
   "execution_count": 56,
   "metadata": {},
   "outputs": [],
   "source": [
    "cnn_asphalt.save('trained_model_asphalt_3.h5')"
   ]
  },
  {
   "cell_type": "markdown",
   "metadata": {},
   "source": [
    "### Desert"
   ]
  },
  {
   "cell_type": "code",
   "execution_count": null,
   "metadata": {},
   "outputs": [],
   "source": [
    "cnn_desert.save('trained_model_desert.h5')"
   ]
  },
  {
   "cell_type": "markdown",
   "metadata": {},
   "source": [
    "### Offroad"
   ]
  },
  {
   "cell_type": "code",
   "execution_count": null,
   "metadata": {},
   "outputs": [],
   "source": [
    "cnn_offroad.save('trained_model_offroad.h5')"
   ]
  },
  {
   "cell_type": "markdown",
   "metadata": {},
   "source": [
    "## Perform Integer Quantization on the Model"
   ]
  },
  {
   "cell_type": "markdown",
   "metadata": {},
   "source": [
    "### Asphalt"
   ]
  },
  {
   "cell_type": "code",
   "execution_count": 17,
   "metadata": {},
   "outputs": [
    {
     "name": "stderr",
     "output_type": "stream",
     "text": [
      "WARNING:absl:Found untraced functions such as _jit_compiled_convolution_op, _jit_compiled_convolution_op, _jit_compiled_convolution_op, _jit_compiled_convolution_op while saving (showing 4 of 4). These functions will not be directly callable after loading.\n"
     ]
    },
    {
     "name": "stdout",
     "output_type": "stream",
     "text": [
      "INFO:tensorflow:Assets written to: /tmp/tmpwyesqxcq/assets\n"
     ]
    },
    {
     "name": "stderr",
     "output_type": "stream",
     "text": [
      "INFO:tensorflow:Assets written to: /tmp/tmpwyesqxcq/assets\n"
     ]
    },
    {
     "name": "stdout",
     "output_type": "stream",
     "text": [
      "Weight-quantized model saved as trained_model_asphalt_weight_quantized.tflite\n"
     ]
    },
    {
     "name": "stderr",
     "output_type": "stream",
     "text": [
      "2024-04-08 16:01:37.780040: W tensorflow/compiler/mlir/lite/python/tf_tfl_flatbuffer_helpers.cc:362] Ignored output_format.\n",
      "2024-04-08 16:01:37.780055: W tensorflow/compiler/mlir/lite/python/tf_tfl_flatbuffer_helpers.cc:365] Ignored drop_control_dependency.\n",
      "2024-04-08 16:01:37.780457: I tensorflow/cc/saved_model/reader.cc:43] Reading SavedModel from: /tmp/tmpwyesqxcq\n",
      "2024-04-08 16:01:37.782414: I tensorflow/cc/saved_model/reader.cc:81] Reading meta graph with tags { serve }\n",
      "2024-04-08 16:01:37.782427: I tensorflow/cc/saved_model/reader.cc:122] Reading SavedModel debug info (if present) from: /tmp/tmpwyesqxcq\n",
      "2024-04-08 16:01:37.788290: I tensorflow/compiler/mlir/mlir_graph_optimization_pass.cc:354] MLIR V1 optimization pass is not enabled\n",
      "2024-04-08 16:01:37.789866: I tensorflow/cc/saved_model/loader.cc:228] Restoring SavedModel bundle.\n",
      "2024-04-08 16:01:37.872198: I tensorflow/cc/saved_model/loader.cc:212] Running initialization op on SavedModel bundle at path: /tmp/tmpwyesqxcq\n",
      "2024-04-08 16:01:37.897326: I tensorflow/cc/saved_model/loader.cc:301] SavedModel load for tags { serve }; Status: success: OK. Took 116871 microseconds.\n",
      "2024-04-08 16:01:37.963306: I tensorflow/compiler/mlir/tensorflow/utils/dump_mlir_util.cc:263] disabling MLIR crash reproducer, set env var `MLIR_CRASH_REPRODUCER_DIRECTORY` to enable.\n"
     ]
    }
   ],
   "source": [
    "# Load the asphalt model\n",
    "model_name_asphalt = 'trained_model_asphalt.h5'\n",
    "model_asphalt = load_model(model_name_asphalt)\n",
    "\n",
    "# Prepare the TensorFlow Lite converter for weight quantization\n",
    "converter_asphalt = tf.lite.TFLiteConverter.from_keras_model(model_asphalt)\n",
    "converter_asphalt.optimizations = [tf.lite.Optimize.DEFAULT]\n",
    "\n",
    "# Convert the model\n",
    "tflite_quantized_model_asphalt = converter_asphalt.convert()\n",
    "\n",
    "# Save the quantized model\n",
    "quantized_model_name_asphalt = model_name_asphalt.replace('.h5', '_weight_quantized.tflite')\n",
    "with open(quantized_model_name_asphalt, 'wb') as f:\n",
    "    f.write(tflite_quantized_model_asphalt)\n",
    "\n",
    "print(f\"Weight-quantized model saved as {quantized_model_name_asphalt}\")"
   ]
  },
  {
   "cell_type": "markdown",
   "metadata": {},
   "source": [
    "### Desert"
   ]
  },
  {
   "cell_type": "code",
   "execution_count": null,
   "metadata": {},
   "outputs": [],
   "source": [
    "# Load the desert model\n",
    "model_name_desert = 'trained_model_desert.h5'\n",
    "model_desert = load_model(model_name_desert)\n",
    "\n",
    "# Prepare the TensorFlow Lite converter for weight quantization\n",
    "converter_desert = tf.lite.TFLiteConverter.from_keras_model(model_desert)\n",
    "converter_desert.optimizations = [tf.lite.Optimize.DEFAULT]\n",
    "\n",
    "# Convert the model\n",
    "tflite_quantized_model_desert = converter_desert.convert()\n",
    "\n",
    "# Save the quantized model\n",
    "quantized_model_name_desert = model_name_desert.replace('.h5', '_weight_quantized.tflite')\n",
    "with open(quantized_model_name_desert, 'wb') as f:\n",
    "    f.write(tflite_quantized_model_desert)\n",
    "\n",
    "print(f\"Weight-quantized model saved as {quantized_model_name_desert}\")"
   ]
  },
  {
   "cell_type": "markdown",
   "metadata": {},
   "source": [
    "### Offroad"
   ]
  },
  {
   "cell_type": "code",
   "execution_count": null,
   "metadata": {},
   "outputs": [],
   "source": [
    "# Load the offroad model\n",
    "model_name_offroad = 'trained_model_offroad.h5'\n",
    "model_offroad = load_model(model_name_offroad)\n",
    "\n",
    "# Prepare the TensorFlow Lite converter for weight quantization\n",
    "converter_offroad = tf.lite.TFLiteConverter.from_keras_model(model_offroad)\n",
    "converter_offroad.optimizations = [tf.lite.Optimize.DEFAULT]\n",
    "\n",
    "# Convert the model\n",
    "tflite_quantized_model_offroad = converter_offroad.convert()\n",
    "\n",
    "# Save the quantized model\n",
    "quantized_model_name_offroad = model_name_offroad.replace('.h5', '_weight_quantized.tflite')\n",
    "with open(quantized_model_name_offroad, 'wb') as f:\n",
    "    f.write(tflite_quantized_model_offroad)\n",
    "\n",
    "print(f\"Weight-quantized model saved as {quantized_model_name_offroad}\")"
   ]
  },
  {
   "cell_type": "code",
   "execution_count": null,
   "metadata": {},
   "outputs": [],
   "source": []
  }
 ],
 "metadata": {
  "kernelspec": {
   "display_name": "Python 3",
   "language": "python",
   "name": "python3"
  },
  "language_info": {
   "codemirror_mode": {
    "name": "ipython",
    "version": 3
   },
   "file_extension": ".py",
   "mimetype": "text/x-python",
   "name": "python",
   "nbconvert_exporter": "python",
   "pygments_lexer": "ipython3",
   "version": "3.8.10"
  }
 },
 "nbformat": 4,
 "nbformat_minor": 2
}
